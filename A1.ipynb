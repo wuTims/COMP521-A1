{
 "cells": [
  {
   "cell_type": "markdown",
   "metadata": {},
   "source": [
    "# Assignment 1 Comp 521 Fall 2015\n",
    "\n",
    "Assigned: 3 September 2015  \n",
    "Due: 17 September 2015\n",
    "\n",
    "Answer each question below by filling in code at the point indicated. Do not modify any of the other cells. \n",
    "\n",
    "You __must__ run the cells in order. It looks like you can come back later after restarting and pick up where you left off but that is not the case. When restarting you always have to start at the top of the notebook and run each cell in turn. "
   ]
  },
  {
   "cell_type": "code",
   "execution_count": 27,
   "metadata": {
    "collapsed": false
   },
   "outputs": [],
   "source": [
    "# fill in the information below\n",
    "Author = 'tlwu'\n",
    "Collaborators = []"
   ]
  },
  {
   "cell_type": "code",
   "execution_count": 28,
   "metadata": {
    "collapsed": false
   },
   "outputs": [],
   "source": [
    "# checker setup do NOT change this\n",
    "import comp521\n",
    "check, report = comp521.start('A1')"
   ]
  },
  {
   "cell_type": "code",
   "execution_count": 29,
   "metadata": {
    "collapsed": false
   },
   "outputs": [],
   "source": [
    "# setup, no need to change this\n",
    "from Dee import *\n",
    "from DeeDatabase import Database\n",
    "from CourseEnrollmentDee import DeeDB\n",
    "import sqlite3\n",
    "\n",
    "# I'll open a DB in memory\n",
    "conn = sqlite3.connect(\":memory:\")\n",
    "cursor = conn.cursor()"
   ]
  },
  {
   "cell_type": "markdown",
   "metadata": {},
   "source": [
    "## Question 1\n",
    "Use SQL to create tables for the following database schema modeling a library.\n",
    "\n",
    "STUDENT __sid__(INTEGER) sname(TEXT)  \n",
    "BOOK __bid__(INTEGER) bname(TEXT) author(TEXT)  \n",
    "BORROWS __id__(INTEGER) sid(INTEGER) bid(INTEGER) date(TEXT)  \n",
    "\n",
    "All primary keys are bold. In the BORROWS table, __bid__ is a foreign key referencing BOOK and __sid__ is a foreign key referencing STUDENT.\n",
    "\n",
    "__Make sure__ you use the *exact* names and data types for the tables and attributes in order to pass the automatic test."
   ]
  },
  {
   "cell_type": "code",
   "execution_count": 30,
   "metadata": {
    "collapsed": false
   },
   "outputs": [
    {
     "name": "stdout",
     "output_type": "stream",
     "text": [
      "Q1a correct\n"
     ]
    }
   ],
   "source": [
    "# I'll clean up for you so you don't get tripped up by trying more than once. Leave this alone\n",
    "cursor.execute('DROP TABLE IF EXISTS \"STUDENT\"')\n",
    "cursor.execute('DROP TABLE IF EXISTS \"BOOK\"')\n",
    "cursor.execute('DROP TABLE IF EXISTS \"BORROWS\"')\n",
    "\n",
    "# insert your code to create the table here using cursor to create the tables.\n",
    "cursor.execute(\"\"\"\n",
    "    create table STUDENT\n",
    "        (sid integer primary key,\n",
    "         sname text\n",
    "        )\n",
    "\"\"\")\n",
    "\n",
    "cursor.execute(\"\"\"\n",
    "    create table BOOK\n",
    "        (bid integer primary key,\n",
    "         bname text,\n",
    "         author text\n",
    "        )\n",
    "\"\"\")\n",
    "\n",
    "cursor.execute(\"\"\"\n",
    "    create table BORROWS\n",
    "        (id integer,\n",
    "         sid integer,\n",
    "         bid integer,\n",
    "         date text,\n",
    "         primary key (id)\n",
    "         foreign key (sid) references STUDENT\n",
    "         foreign key (bid) references BOOK)\n",
    "\"\"\")\n",
    "\n",
    "# leave this testing code alone\n",
    "c1 = cursor.execute(\"SELECT name from sqlite_master WHERE type='table' order by name asc\").fetchall()\n",
    "check('Q1a', c1, points=6)"
   ]
  },
  {
   "cell_type": "markdown",
   "metadata": {},
   "source": [
    "## Question 2\n",
    "Insert the following data into the tables you created above.\n",
    "\n",
    "<table>\n",
    "<caption>STUDENT</caption>\n",
    "<tr><th>sid</th><th>sname</th></tr>\n",
    "<tr><td>1</td><td>Alice</td></tr>\n",
    "<tr><td>2</td><td>Bob</td></tr>\n",
    "<tr><td>3</td><td>Cindy</td></tr>\n",
    "</table>\n",
    "\n",
    "<table>\n",
    "<caption>BOOK</caption>\n",
    "<tr><th>bid</th><th>bname</th><th>author</th></tr>\n",
    "<tr><td>1</td><td>Database Management Systems</td><td>Ramakrishnan</td></tr>\n",
    "<tr><td>2</td><td>Lord of the Rings</td><td>Tolkien</td></tr>\n",
    "</table>\n",
    "\n",
    "<table>\n",
    "<caption>BORROWS</caption>\n",
    "<tr><th>id</th><th>sid</th><th>bid</th><th>date</th></tr>\n",
    "<tr><td>1</td><td>2</td><td>1</td><td>8/3/2015</td></tr>\n",
    "<tr><td>2</td><td>3</td><td>2</td><td>9/1/2015</td></tr>\n",
    "</table>\n"
   ]
  },
  {
   "cell_type": "code",
   "execution_count": 31,
   "metadata": {
    "collapsed": false
   },
   "outputs": [
    {
     "name": "stdout",
     "output_type": "stream",
     "text": [
      "Q2a correct\n",
      "Q2b correct\n",
      "Q2c correct\n"
     ]
    }
   ],
   "source": [
    "# write your code here\n",
    "student = [(1,\"Alice\"),\n",
    "           (2,\"Bob\"),\n",
    "           (3,\"Cindy\"),]\n",
    "for student in student:\n",
    "    cursor.execute(\"insert into STUDENT values (?,?)\", student)\n",
    "    \n",
    "book = [(1,\"Database Management Systems\",\"Ramakrishnan\"),\n",
    "        (2,\"Lord of the Rings\",\"Tolkien\")]\n",
    "for book in book:\n",
    "    cursor.execute(\"insert into BOOK values (?,?,?)\", book)\n",
    "    \n",
    "borrows = [(1,2,1,\"8/3/2015\"),\n",
    "           (2,3,2,\"9/1/2015\")]\n",
    "for borrow in borrows:\n",
    "    cursor.execute(\"insert into BORROWS values (?,?,?,?)\", borrow)\n",
    "           \n",
    "# testing code\n",
    "c2a = cursor.execute('select * from STUDENT').fetchall()\n",
    "check('Q2a', c2a, points=3)\n",
    "c2b = cursor.execute('select * from BOOK').fetchall()\n",
    "check('Q2b', c2b, points=3)\n",
    "c2c = cursor.execute('select * from BORROWS').fetchall()\n",
    "check('Q2c', c2c, points=3)"
   ]
  },
  {
   "cell_type": "markdown",
   "metadata": {},
   "source": [
    "## Question 3\n",
    "Delete the record with id equal 1 from the BORROWS table."
   ]
  },
  {
   "cell_type": "code",
   "execution_count": 32,
   "metadata": {
    "collapsed": false
   },
   "outputs": [
    {
     "name": "stdout",
     "output_type": "stream",
     "text": [
      "Q3 correct\n"
     ]
    }
   ],
   "source": [
    "# write your code here\n",
    "cursor.execute(\"\"\"\n",
    "    delete \n",
    "    from BORROWS \n",
    "    where id = 1\n",
    "\"\"\")\n",
    "# don't touch this\n",
    "c3 = cursor.execute('''select * from BORROWS''').fetchall()\n",
    "check('Q3', c3, points=5)"
   ]
  },
  {
   "cell_type": "markdown",
   "metadata": {},
   "source": [
    "## Setup for questions 4-12\n",
    "Consider the following schema for a database modeling courses at UNC.\n",
    "```\n",
    "    DEPARTMENT (did, name)  \n",
    "    COURSE (cid, did, name, num, creditHours)  \n",
    "    STUDENT (sid, fname, lname, did)  \n",
    "    ENROLLED_IN (eid, sid, cid)  \n",
    "```\n",
    "    \n",
    "In the COURSE table, did is a foreign key referencing DEPARTMENT(did). In the ENROLLED_IN\n",
    "table, sid is a foreign key referencing STUDENT(sid), and cid is a foreign key referencing\n",
    "COURSE(cid). In STUDENT, did is a foreign key referencing DEPARTMENT(did).\n",
    "\n",
    "### Questions 4-8\n",
    "\n",
    "Use [Dee](http://www.quicksort.co.uk/DeeDoc.html) to write relational algebra queries for the following. In particular, you may find the\n",
    "following Dee operators most useful: Projection, Restriction (corresponds to select in\n",
    "relational algebra), Join, Intersection, Difference, Union, and Divide.\n",
    "\n",
    "Your, already populated, Dee database is named DeeDB.\n"
   ]
  },
  {
   "cell_type": "markdown",
   "metadata": {},
   "source": [
    "## Question 4\n",
    "Find the names of all courses below the 500 level. You can get the Dee relation for COURSE with `DeeDB.COURSE`."
   ]
  },
  {
   "cell_type": "code",
   "execution_count": 33,
   "metadata": {
    "collapsed": false
   },
   "outputs": [
    {
     "name": "stdout",
     "output_type": "stream",
     "text": [
      "Q4 correct\n"
     ]
    }
   ],
   "source": [
    "# write code here used DeeDB and Dee methods.\n",
    "courseNames = DeeDB.COURSE.where(lambda t : t.num<500)\n",
    "c4 = courseNames.project(['name'])\n",
    "\n",
    "\n",
    "# checking code\n",
    "check('Q4', c4, points=5)"
   ]
  },
  {
   "cell_type": "markdown",
   "metadata": {},
   "source": [
    "## Question 5\n",
    "Find the first and last names of all students enrolled in \"Files and Databases\"."
   ]
  },
  {
   "cell_type": "code",
   "execution_count": 34,
   "metadata": {
    "collapsed": false
   },
   "outputs": [
    {
     "name": "stdout",
     "output_type": "stream",
     "text": [
      "Q5 correct\n"
     ]
    }
   ],
   "source": [
    "# Assign your result to c5\n",
    "\n",
    "class521 = DeeDB.COURSE.where(lambda t : t.name==\"Files and Databases\")\n",
    "enrolled = class521 & DeeDB.ENROLLED_IN\n",
    "enrolled_students = enrolled & DeeDB.STUDENT.project(['sid','lname','fname'])\n",
    "c5 = enrolled_students.project(['lname','fname'])\n",
    "\n",
    "# checking\n",
    "check('Q5', c5, points=5)"
   ]
  },
  {
   "cell_type": "markdown",
   "metadata": {},
   "source": [
    "## Question 6\n",
    "Find the first and last names of all students in the ANTH department."
   ]
  },
  {
   "cell_type": "code",
   "execution_count": 35,
   "metadata": {
    "collapsed": false
   },
   "outputs": [
    {
     "name": "stdout",
     "output_type": "stream",
     "text": [
      "Q6 correct\n"
     ]
    }
   ],
   "source": [
    "\n",
    "# assign to c6\n",
    "anthDep = DeeDB.DEPARTMENT.where(lambda t : t.name=='ANTH')\n",
    "anthStudents = DeeDB.DEPARTMENT & DeeDB.STUDENT & anthDep\n",
    "c6 = anthStudents.project(['lname','fname'])\n",
    "# checking\n",
    "check('Q6', c6, points=5)"
   ]
  },
  {
   "cell_type": "markdown",
   "metadata": {},
   "source": [
    "## Question 7\n",
    "List the first and last names of all students enrolled in no courses."
   ]
  },
  {
   "cell_type": "code",
   "execution_count": 36,
   "metadata": {
    "collapsed": false
   },
   "outputs": [
    {
     "name": "stdout",
     "output_type": "stream",
     "text": [
      "Q7 correct\n"
     ]
    }
   ],
   "source": [
    "# assign to c7\n",
    "enrolled_students = DeeDB.STUDENT & DeeDB.ENROLLED_IN.project(['sid'])\n",
    "c7 = DeeDB.STUDENT.project(['lname','fname']) - enrolled_students.project(['lname','fname'])\n",
    "\n",
    "# checking\n",
    "check('Q7', c7, points=5)"
   ]
  },
  {
   "cell_type": "markdown",
   "metadata": {},
   "source": [
    "## Question 8\n",
    "List the first and last names of all students enrolled in every COMP course."
   ]
  },
  {
   "cell_type": "code",
   "execution_count": 37,
   "metadata": {
    "collapsed": false,
    "scrolled": false
   },
   "outputs": [
    {
     "name": "stdout",
     "output_type": "stream",
     "text": [
      "Q8 correct\n"
     ]
    }
   ],
   "source": [
    "compDep = DeeDB.DEPARTMENT.where(lambda t : t.name=='COMP')\n",
    "compCourses = compDep.project(['did']) & DeeDB.COURSE\n",
    "var1 = (compCourses & DeeDB.ENROLLED_IN) & DeeDB.STUDENT.project(['lname','fname','sid'])\n",
    "c8 = DIVIDE_SIMPLE( var1.project(['cid','lname','fname']),compCourses.project(['cid']))\n",
    "\n",
    "\n",
    "\n",
    "\n",
    "\n",
    "check('Q8', c8, points=15)"
   ]
  },
  {
   "cell_type": "markdown",
   "metadata": {},
   "source": [
    "### Questions 9-12\n",
    "\n",
    "Now use the sqlite3 database `courseEnrollment.db`, which has the same schema as above to write SQL queries for the following. I will open it for you below. __You must execute this next cell before the others!__"
   ]
  },
  {
   "cell_type": "code",
   "execution_count": 38,
   "metadata": {
    "collapsed": false
   },
   "outputs": [],
   "source": [
    "econn = sqlite3.connect('CourseEnrollment.db')\n",
    "ecursor = econn.cursor()\n",
    "\n",
    "# use ecursor to refer to this database below."
   ]
  },
  {
   "cell_type": "markdown",
   "metadata": {},
   "source": [
    "## Question 9\n",
    "Find the names of all 4 credit hour courses."
   ]
  },
  {
   "cell_type": "code",
   "execution_count": 49,
   "metadata": {
    "collapsed": false
   },
   "outputs": [
    {
     "name": "stdout",
     "output_type": "stream",
     "text": [
      "[u'BARBARA', u'ROBERT']\n"
     ]
    }
   ],
   "source": [
    "# your code here\n",
    "a = ecursor.execute(\"\"\"\n",
    "select distinct S.fname\n",
    "    from Student S\n",
    "    where S.fname LIKE '%b%'\n",
    "\"\"\")\n",
    "    \n",
    "print [item[0] for item in a]\n",
    "\n",
    "# c9 = ecursor.execute(\"\"\"\n",
    "# select C.name\n",
    "#     from COURSE C\n",
    "#     where C.creditHours == 4\n",
    "# \"\"\").fetchall()\n",
    "    \n",
    "# check('Q9', c9, points=10)"
   ]
  },
  {
   "cell_type": "markdown",
   "metadata": {},
   "source": [
    "## Question 10\n",
    "Find the first and last names of all students enrolled in COMP courses."
   ]
  },
  {
   "cell_type": "code",
   "execution_count": 42,
   "metadata": {
    "collapsed": false
   },
   "outputs": [
    {
     "name": "stdout",
     "output_type": "stream",
     "text": [
      "Q10 correct\n"
     ]
    }
   ],
   "source": [
    "# your code here\n",
    "\n",
    "\n",
    "c10 = ecursor.execute(\"\"\"\n",
    "select distinct S.fname, S.lname\n",
    "    from COURSE C, DEPARTMENT D, STUDENT S, ENROLLED_IN E\n",
    "    where D.name==\"COMP\" and C.did == D.did and S.sid == E.sid and E.cid == C.cid\n",
    "\"\"\").fetchall()\n",
    "    \n",
    "\n",
    "check('Q10', c10, points=10)"
   ]
  },
  {
   "cell_type": "markdown",
   "metadata": {},
   "source": [
    "## Question 11\n",
    "Find the first and last names of all students enrolled in courses of at least 500 level."
   ]
  },
  {
   "cell_type": "code",
   "execution_count": 43,
   "metadata": {
    "collapsed": false
   },
   "outputs": [
    {
     "name": "stdout",
     "output_type": "stream",
     "text": [
      "Q11 correct\n"
     ]
    }
   ],
   "source": [
    "# your code here\n",
    "c11 = ecursor.execute(\"\"\"\n",
    "select distinct S.fname, S.lname\n",
    "    from STUDENT S, ENROLLED_IN E, COURSE C\n",
    "    where C.num >= 500 and S.sid == E.sid and E.cid == C.cid\n",
    "\"\"\").fetchall()\n",
    "\n",
    "\n",
    "check('Q11', c11, points=10)"
   ]
  },
  {
   "cell_type": "markdown",
   "metadata": {},
   "source": [
    "## Question 12\n",
    "Find the first and last names of all students enrolled in 'Data Structures' and \"Anthropology of the Body and the Subject'."
   ]
  },
  {
   "cell_type": "code",
   "execution_count": 78,
   "metadata": {
    "collapsed": false
   },
   "outputs": [
    {
     "name": "stdout",
     "output_type": "stream",
     "text": [
      "Q12 correct\n"
     ]
    }
   ],
   "source": [
    "# your code here\n",
    "c12 = ecursor.execute(\"\"\"\n",
    "select distinct S.fname, S.lname\n",
    "    from STUDENT S, ENROLLED_IN E, COURSE C\n",
    "    where C.name == 'Data Structures' and S.sid == E.sid and C.cid == E.cid\n",
    "    \n",
    "intersect\n",
    "\n",
    "select distinct S.fname, S.lname\n",
    "    from STUDENT S, ENROLLED_IN E, COURSE C\n",
    "    where C.name == 'Anthropology of the Body and the Subject' and S.sid == E.sid and C.cid == E.cid \n",
    "\"\"\").fetchall()\n",
    "\n",
    "\n",
    "check('Q12', c12, points=15)"
   ]
  },
  {
   "cell_type": "markdown",
   "metadata": {},
   "source": [
    "## Done!\n",
    "\n",
    "Now get your report and submit your assignment."
   ]
  },
  {
   "cell_type": "code",
   "execution_count": 79,
   "metadata": {
    "collapsed": false
   },
   "outputs": [
    {
     "name": "stdout",
     "output_type": "stream",
     "text": [
      "Q10\n",
      "Q11\n",
      "Q12\n",
      "Q1a\n",
      "Q2a\n",
      "Q2b\n",
      "Q2c\n",
      "Q3\n",
      "Q4\n",
      "Q5\n",
      "Q6\n",
      "Q7\n",
      "Q8\n",
      "Q9\n",
      "Report for tlwu\n",
      "  Collaborators: []\n",
      "  14 of 14 correct, 100 of 100 points\n"
     ]
    },
    {
     "data": {
      "text/html": [
       "\n",
       "<p>Click the button below to submit your assignment. Watch for a confirmation message\n",
       "that your notebook was successfully uploaded. You may submit as often as you wish,\n",
       "only the last submission will count.</p>\n",
       "<p id=\"errorHelp116\" style=\"display:none; color:red\">\n",
       "Your submission failed. Make sure you run every cell in your notebook before trying to\n",
       "submit it.</p>\n",
       "<button id=\"submitButton116\">Submit this notebook</button>\n",
       "<p id=\"submitResponse116\"></p>\n",
       "<iframe id=\"loginResponse116\" height=\"200\" width=\"600\"></iframe>\n",
       "<script>\n",
       "(function() {\n",
       "    function submit_notebook() {\n",
       "        var notebook = IPython.notebook.notebook_name,\n",
       "            uuid = 'xxxxxxxx-xxxx-4xxx-yxxx-xxxxxxxxxxxx'.replace(/[xy]/g, function(c) {\n",
       "                var r = Math.random()*16|0, v = c == 'x' ? r : (r&0x3|0x8);\n",
       "                return v.toString(16);\n",
       "            }),\n",
       "            command = \"comp521.pushNotebook('\" + notebook + \"', '\" + uuid + \"')\",\n",
       "            kernel = IPython.notebook.kernel,\n",
       "            $sresp = $('#submitResponse116'),\n",
       "            $def = $.Deferred(),\n",
       "            handler = function (out) {\n",
       "                console.log(out);\n",
       "                if (out.content.status == \"ok\") {\n",
       "                    $def.resolve(\"Tranfer OK\");\n",
       "                } else if(out.content.status == \"error\") {\n",
       "                    $def.reject(out.content.ename + \": \" + out.content.evalue);\n",
       "                } else { // if output is something we haven't thought of\n",
       "                    $def.reject(\"[out type not implemented]\")\n",
       "                }\n",
       "            };\n",
       "        $def.done(function(msg) {\n",
       "            console.log('done', msg, notebook);\n",
       "            $sresp.html(msg);\n",
       "            claim_url = 'https://wwwx.cs.unc.edu/Courses/comp521-f15/'\n",
       "                + 'upload/check/claim.cgi?nb='\n",
       "                + encodeURI(notebook)\n",
       "                + \"&uuid=\"\n",
       "                + uuid;\n",
       "            console.log('claim_url', claim_url);\n",
       "            $('#loginResponse116').attr('src', claim_url);\n",
       "        });\n",
       "        $def.fail(function(msg) {\n",
       "            $sresp.html(msg);\n",
       "            $('#errorHelp116').show();\n",
       "        });\n",
       "        // wait until save is complete before pushing the notebook\n",
       "        $([IPython.events]).one('notebook_saved.Notebook', function() {\n",
       "            kernel.execute(command, {shell: { reply: handler }});\n",
       "        });\n",
       "        $sresp.html('');\n",
       "        IPython.notebook.save_notebook();\n",
       "    }\n",
       "    $('#submitButton116').click(submit_notebook);\n",
       "})();\n",
       "</script>\n",
       "    "
      ],
      "text/plain": [
       "<IPython.core.display.HTML object>"
      ]
     },
     "execution_count": 79,
     "metadata": {},
     "output_type": "execute_result"
    }
   ],
   "source": [
    "report(Author, Collaborators)"
   ]
  },
  {
   "cell_type": "raw",
   "metadata": {
    "collapsed": true
   },
   "source": []
  }
 ],
 "metadata": {
  "kernelspec": {
   "display_name": "Python 2",
   "language": "python",
   "name": "python2"
  },
  "language_info": {
   "codemirror_mode": {
    "name": "ipython",
    "version": 2
   },
   "file_extension": ".py",
   "mimetype": "text/x-python",
   "name": "python",
   "nbconvert_exporter": "python",
   "pygments_lexer": "ipython2",
   "version": "2.7.8"
  }
 },
 "nbformat": 4,
 "nbformat_minor": 0
}
